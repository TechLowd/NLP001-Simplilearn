{
 "cells": [
  {
   "cell_type": "markdown",
   "metadata": {},
   "source": [
    "##### Import NLTK module"
   ]
  },
  {
   "cell_type": "code",
   "execution_count": 1,
   "metadata": {},
   "outputs": [],
   "source": [
    "import nltk"
   ]
  },
  {
   "cell_type": "markdown",
   "metadata": {},
   "source": [
    "##### Import Brown corpus"
   ]
  },
  {
   "cell_type": "code",
   "execution_count": 2,
   "metadata": {},
   "outputs": [],
   "source": [
    "from nltk.corpus import brown"
   ]
  },
  {
   "cell_type": "markdown",
   "metadata": {},
   "source": [
    "##### Access brown corpus categories"
   ]
  },
  {
   "cell_type": "code",
   "execution_count": 3,
   "metadata": {},
   "outputs": [
    {
     "data": {
      "text/plain": [
       "['adventure',\n",
       " 'belles_lettres',\n",
       " 'editorial',\n",
       " 'fiction',\n",
       " 'government',\n",
       " 'hobbies',\n",
       " 'humor',\n",
       " 'learned',\n",
       " 'lore',\n",
       " 'mystery',\n",
       " 'news',\n",
       " 'religion',\n",
       " 'reviews',\n",
       " 'romance',\n",
       " 'science_fiction']"
      ]
     },
     "execution_count": 3,
     "metadata": {},
     "output_type": "execute_result"
    }
   ],
   "source": [
    "brown.categories()"
   ]
  },
  {
   "cell_type": "code",
   "execution_count": 4,
   "metadata": {},
   "outputs": [
    {
     "data": {
      "text/plain": [
       "15"
      ]
     },
     "execution_count": 4,
     "metadata": {},
     "output_type": "execute_result"
    }
   ],
   "source": [
    "len(brown.categories())"
   ]
  },
  {
   "cell_type": "code",
   "execution_count": 5,
   "metadata": {},
   "outputs": [
    {
     "name": "stdout",
     "output_type": "stream",
     "text": [
      "Category ----- # of files\n",
      "\n",
      "adventure ----- 29 \n",
      " ['cn01', 'cn02', 'cn03', 'cn04', 'cn05', 'cn06', 'cn07', 'cn08', 'cn09', 'cn10', 'cn11', 'cn12', 'cn13', 'cn14', 'cn15', 'cn16', 'cn17', 'cn18', 'cn19', 'cn20', 'cn21', 'cn22', 'cn23', 'cn24', 'cn25', 'cn26', 'cn27', 'cn28', 'cn29'] \n",
      "\n",
      "belles_lettres ----- 75 \n",
      " ['cg01', 'cg02', 'cg03', 'cg04', 'cg05', 'cg06', 'cg07', 'cg08', 'cg09', 'cg10', 'cg11', 'cg12', 'cg13', 'cg14', 'cg15', 'cg16', 'cg17', 'cg18', 'cg19', 'cg20', 'cg21', 'cg22', 'cg23', 'cg24', 'cg25', 'cg26', 'cg27', 'cg28', 'cg29', 'cg30', 'cg31', 'cg32', 'cg33', 'cg34', 'cg35', 'cg36', 'cg37', 'cg38', 'cg39', 'cg40', 'cg41', 'cg42', 'cg43', 'cg44', 'cg45', 'cg46', 'cg47', 'cg48', 'cg49', 'cg50', 'cg51', 'cg52', 'cg53', 'cg54', 'cg55', 'cg56', 'cg57', 'cg58', 'cg59', 'cg60', 'cg61', 'cg62', 'cg63', 'cg64', 'cg65', 'cg66', 'cg67', 'cg68', 'cg69', 'cg70', 'cg71', 'cg72', 'cg73', 'cg74', 'cg75'] \n",
      "\n",
      "editorial ----- 27 \n",
      " ['cb01', 'cb02', 'cb03', 'cb04', 'cb05', 'cb06', 'cb07', 'cb08', 'cb09', 'cb10', 'cb11', 'cb12', 'cb13', 'cb14', 'cb15', 'cb16', 'cb17', 'cb18', 'cb19', 'cb20', 'cb21', 'cb22', 'cb23', 'cb24', 'cb25', 'cb26', 'cb27'] \n",
      "\n",
      "fiction ----- 29 \n",
      " ['ck01', 'ck02', 'ck03', 'ck04', 'ck05', 'ck06', 'ck07', 'ck08', 'ck09', 'ck10', 'ck11', 'ck12', 'ck13', 'ck14', 'ck15', 'ck16', 'ck17', 'ck18', 'ck19', 'ck20', 'ck21', 'ck22', 'ck23', 'ck24', 'ck25', 'ck26', 'ck27', 'ck28', 'ck29'] \n",
      "\n",
      "government ----- 30 \n",
      " ['ch01', 'ch02', 'ch03', 'ch04', 'ch05', 'ch06', 'ch07', 'ch08', 'ch09', 'ch10', 'ch11', 'ch12', 'ch13', 'ch14', 'ch15', 'ch16', 'ch17', 'ch18', 'ch19', 'ch20', 'ch21', 'ch22', 'ch23', 'ch24', 'ch25', 'ch26', 'ch27', 'ch28', 'ch29', 'ch30'] \n",
      "\n",
      "hobbies ----- 36 \n",
      " ['ce01', 'ce02', 'ce03', 'ce04', 'ce05', 'ce06', 'ce07', 'ce08', 'ce09', 'ce10', 'ce11', 'ce12', 'ce13', 'ce14', 'ce15', 'ce16', 'ce17', 'ce18', 'ce19', 'ce20', 'ce21', 'ce22', 'ce23', 'ce24', 'ce25', 'ce26', 'ce27', 'ce28', 'ce29', 'ce30', 'ce31', 'ce32', 'ce33', 'ce34', 'ce35', 'ce36'] \n",
      "\n",
      "humor ----- 9 \n",
      " ['cr01', 'cr02', 'cr03', 'cr04', 'cr05', 'cr06', 'cr07', 'cr08', 'cr09'] \n",
      "\n",
      "learned ----- 80 \n",
      " ['cj01', 'cj02', 'cj03', 'cj04', 'cj05', 'cj06', 'cj07', 'cj08', 'cj09', 'cj10', 'cj11', 'cj12', 'cj13', 'cj14', 'cj15', 'cj16', 'cj17', 'cj18', 'cj19', 'cj20', 'cj21', 'cj22', 'cj23', 'cj24', 'cj25', 'cj26', 'cj27', 'cj28', 'cj29', 'cj30', 'cj31', 'cj32', 'cj33', 'cj34', 'cj35', 'cj36', 'cj37', 'cj38', 'cj39', 'cj40', 'cj41', 'cj42', 'cj43', 'cj44', 'cj45', 'cj46', 'cj47', 'cj48', 'cj49', 'cj50', 'cj51', 'cj52', 'cj53', 'cj54', 'cj55', 'cj56', 'cj57', 'cj58', 'cj59', 'cj60', 'cj61', 'cj62', 'cj63', 'cj64', 'cj65', 'cj66', 'cj67', 'cj68', 'cj69', 'cj70', 'cj71', 'cj72', 'cj73', 'cj74', 'cj75', 'cj76', 'cj77', 'cj78', 'cj79', 'cj80'] \n",
      "\n",
      "lore ----- 48 \n",
      " ['cf01', 'cf02', 'cf03', 'cf04', 'cf05', 'cf06', 'cf07', 'cf08', 'cf09', 'cf10', 'cf11', 'cf12', 'cf13', 'cf14', 'cf15', 'cf16', 'cf17', 'cf18', 'cf19', 'cf20', 'cf21', 'cf22', 'cf23', 'cf24', 'cf25', 'cf26', 'cf27', 'cf28', 'cf29', 'cf30', 'cf31', 'cf32', 'cf33', 'cf34', 'cf35', 'cf36', 'cf37', 'cf38', 'cf39', 'cf40', 'cf41', 'cf42', 'cf43', 'cf44', 'cf45', 'cf46', 'cf47', 'cf48'] \n",
      "\n",
      "mystery ----- 24 \n",
      " ['cl01', 'cl02', 'cl03', 'cl04', 'cl05', 'cl06', 'cl07', 'cl08', 'cl09', 'cl10', 'cl11', 'cl12', 'cl13', 'cl14', 'cl15', 'cl16', 'cl17', 'cl18', 'cl19', 'cl20', 'cl21', 'cl22', 'cl23', 'cl24'] \n",
      "\n",
      "news ----- 44 \n",
      " ['ca01', 'ca02', 'ca03', 'ca04', 'ca05', 'ca06', 'ca07', 'ca08', 'ca09', 'ca10', 'ca11', 'ca12', 'ca13', 'ca14', 'ca15', 'ca16', 'ca17', 'ca18', 'ca19', 'ca20', 'ca21', 'ca22', 'ca23', 'ca24', 'ca25', 'ca26', 'ca27', 'ca28', 'ca29', 'ca30', 'ca31', 'ca32', 'ca33', 'ca34', 'ca35', 'ca36', 'ca37', 'ca38', 'ca39', 'ca40', 'ca41', 'ca42', 'ca43', 'ca44'] \n",
      "\n",
      "religion ----- 17 \n",
      " ['cd01', 'cd02', 'cd03', 'cd04', 'cd05', 'cd06', 'cd07', 'cd08', 'cd09', 'cd10', 'cd11', 'cd12', 'cd13', 'cd14', 'cd15', 'cd16', 'cd17'] \n",
      "\n",
      "reviews ----- 17 \n",
      " ['cc01', 'cc02', 'cc03', 'cc04', 'cc05', 'cc06', 'cc07', 'cc08', 'cc09', 'cc10', 'cc11', 'cc12', 'cc13', 'cc14', 'cc15', 'cc16', 'cc17'] \n",
      "\n",
      "romance ----- 29 \n",
      " ['cp01', 'cp02', 'cp03', 'cp04', 'cp05', 'cp06', 'cp07', 'cp08', 'cp09', 'cp10', 'cp11', 'cp12', 'cp13', 'cp14', 'cp15', 'cp16', 'cp17', 'cp18', 'cp19', 'cp20', 'cp21', 'cp22', 'cp23', 'cp24', 'cp25', 'cp26', 'cp27', 'cp28', 'cp29'] \n",
      "\n",
      "science_fiction ----- 6 \n",
      " ['cm01', 'cm02', 'cm03', 'cm04', 'cm05', 'cm06'] \n",
      "\n"
     ]
    }
   ],
   "source": [
    "# number of files in each category\n",
    "\n",
    "print('Category', '-----', '# of files\\n')\n",
    "\n",
    "for category in brown.categories():\n",
    "    print(category, '-----', len(brown.fileids(categories=category)), '\\n', brown.fileids(categories=category), '\\n')"
   ]
  },
  {
   "cell_type": "markdown",
   "metadata": {},
   "source": [
    "##### Access raw file"
   ]
  },
  {
   "cell_type": "code",
   "execution_count": 6,
   "metadata": {},
   "outputs": [
    {
     "data": {
      "text/plain": [
       "\"\\n\\n\\tFurthermore/rb ,/, as/cs an/at encouragement/nn to/in revisionist/nn thinking/nn ,/, it/pps manifestly/rb is/bez fair/jj to/to admit/vb that/cs any/dti fraternity/nn has/hvz a/at constitutional/jj right/nn to/to refuse/vb to/to accept/vb persons/nns it/pps dislikes/vbz ./.\\nThe/at Unitarian/jj clergy/nns were/bed an/at exclusive/jj club/nn of/in cultivated/vbn gentlemen/nns --/-- as/cs the/at term/nn was/bedz then/rb understood/vbn in/in the/at Back/jj-tl Bay/nn-tl --/-- and/cc Parker/np was/bedz definitely/rb not/* a/at gentleman/nn ,/, either/cc in/in theology/nn or/cc in/in manners/nns ./.\\nEzra/np Stiles/np Gannett/np ,/, an/at honorable/jj representative/nn of/in the/at sanhedrin/nn ,/, addressed/vbd himself/ppl frankly/rb to/in the/at issue/nn in/in 1845/cd ,/, insisting/vbg that/cs Parker/np should/md not/* be/be persecuted/vbn or/cc calumniated/vbn and/cc that/cs in/in this/dt republic/nn no/at power/nn to/to restrain/vb him/ppo by/in force/nn could/md exist/vb ./.\\nEven/rb so/rb ,/, Gannett/np judiciously/rb argued/vbd ,/, the/at Association/nn-tl could/md legitimately/rb decide/vb that/cs Parker/np ``/`` should/md not/* be/be encouraged/vbn nor/cc assisted/vbn in/in diffusing/vbg his/pp$ opinions/nns by/in those/dts who/wps differ/vb from/in him/ppo in/in regard/nn to/in their/pp$ correctness/nn ''/'' ./.\\nWe/ppss today/nr are/ber not/* entitled/vbn to/to excoriate/vb honest/jj men/nns who/wps believed/vbd Parker/np to/to be/be downright/ql pernicious/jj and/cc who/wps barred/vbd their/pp$ pulpits/nns against/in his/pp$ demand/nn to/to poison/vb the/at minds/nns of/in their/pp$ congregations/nns ./.\\nOne/pn can/md even/rb argue/vb --/-- though/cs this/dt is/bez a/at delicate/jj matter/nn --/-- that/cs every/at justification/nn existed/vbd for/in their/pp$ returning/vbg the/at Public/jj-tl Lecture/nn-tl to/in the/at First/od-tl Church/nn-tl ,/, and/cc so/rb to/to suppress/vb it/ppo ,/, rather/rb than/cs let/vb Parker/np use/vb it/ppo as/cs a/at sounding/vbg board/nn for/in his/pp$ propaganda/nn when/wrb his/pp$ turn/nn should/md come/vb to/to occupy/vb it/ppo ./.\\nFinally/rb ,/, it/pps did/dod seem/vb clear/jj as/cs day/nn to/in these/dts clergymen/nns ,/, as/cs Gannett's/np$ son/nn explained/vbd in/in the/at biography/nn of/in his/pp$ father/nn ,/, they/ppss had/hvd always/rb contended/vbn for/in the/at propriety/nn of/in their/pp$ claim/nn to/in the/at title/nn of/in Christians/nps ./.\\nTheir/pp$ demand/nn against/in the/at Calvinist/jj-tl Orthodoxy/nn-tl for/in intellectual/jj liberty/nn had/hvd never/rb meant/vbn that/cs they/ppss would/md follow/vb ``/`` free/jj inquiry/nn ''/'' to/in the/at extreme/nn of/in proclaiming/vbg Christianity/np a/at ``/`` natural/jj ''/'' religion/nn ./.\\n\\n\\n\\tGrant/vb all/abn this/dt --/-- still/rb ,/, when/wrb modern/jj Unitarianism/np and/cc the/at Harvard/np-tl Divinity/nn-tl School/nn-tl recall/vb with/in humorous/jj affection/nn the/at insults/nns Parker/np lavished/vbd upon/in them/ppo ,/, or/cc else/rb argue/vb that/cs after/in all/abn Parker/np received/vbd the/at treatment/nn he/pps invited/vbd ,/, they/ppss betray/vb an/at uneasy/jj conscience/nn ./.\\nWhenever/wrb New/jj-tl England/np-tl liberalism/nn is/bez reminded/vbn of/in the/at dramatic/jj confrontation/nn of/in Parker/np and/cc the/at fraternity/nn on/in January/np 23/cd ,/, 1843/cd --/-- while/cs it/pps may/md defend/vb the/at privilege/nn of/in Chandler/np Robbins/np to/to demand/vb that/cs Parker/np leave/vb the/at Association/nn-tl ,/, while/cs it/pps may/md plead/vb that/cs Dr./nn-tl N./np L./np Frothingham/np had/hvd every/at warrant/nn for/in stating/vbg ,/, ``/`` The/at difference/nn between/in Trinitarians/nps and/cc Unitarians/nps is/bez a/at difference/nn in/in Christianity/np ;/. ;/.\\nthe/at difference/nn between/in Mr./np Parker/np and/cc the/at Association/nn-tl is/bez a/at difference/nn between/in no/at Christianity/np and/cc Christianity/np ''/'' --/-- despite/in these/dts supposed/vbn conclusive/jj assurances/nns ,/, the/at modern/jj liberal/nn heaves/vbz repeatedly/rb a/at sigh/nn of/in relief/nn ,/, of/in positive/jj thanksgiving/nn ,/, that/cs the/at Association/nn-tl never/rb quite/rb brought/vbd itself/ppl officially/rb to/to expel/vb Parker/np ./.\\nHad/hvd it/pps done/vbn so/rb ,/, the/at blot/nn on/in its/pp$ escutcheon/nn would/md have/hv remained/vbn indelible/jj ,/, nor/cc could/md the/at Harvard/np-tl Divinity/nn-tl School/nn-tl assemble/vb today/nr to/to honor/vb Parker's/np$ insurgence/nn other/ap than/in by/in getting/vbg down/rp on/in its/pp$ collective/jj knees/nns and/cc crying/vbg ``/`` peccavi/fw-vbd ''/'' ./.\\n\\n\\n\\tHappily/rb for/in posterity/nn ,/, then/rb ,/, the/at Boston/np-tl Association/nn-tl did/dod not/* actually/rb command/vb Parker/np to/to leave/vb the/at room/nn ,/, though/cs it/pps came/vbd too/ql close/rb for/in comfort/nn to/in what/wdt would/md have/hv been/ben an/at unforgivable/jj brutality/nn ./.\\nFortunately/rb ,/, the/at honor/nn of/in the/at denomination/nn can/md attest/vb that/cs Cyrus/np Bartol/np defended/vbd Parker's/np$ sincerity/nn ,/, as/cs did/dod also/rb Gannett/np and/cc Chandler/np Robbins/np ;/. ;/.\\nwhereupon/cs Parker/np broke/vbd down/rp into/in convulsions/nns of/in weeping/vbg and/cc rushed/vbd out/in of/in the/at room/nn ,/, though/cs not/* out/in of/in the/at Fellowship/nn-tl ./.\\nIn/in the/at hall/nn ,/, after/in adjournment/nn ,/, Dr./nn-tl Frothingham/np took/vbd him/ppo warmly/rb by/in the/at hand/nn and/cc requested/vbd Parker/np to/to visit/vb him/ppo --/-- whereupon/cs our/pp$ burly/jj Theodore/np again/rb burst/vbd into/in tears/nns ./.\\n\\n\\n\\tAll/abn this/dt near/jj tragedy/nn ,/, which/wdt to/in us/ppo borders/vbz on/in comedy/nn ,/, enables/vbz us/ppo to/to tell/vb the/at story/nn over/rp and/cc over/rp again/rb ,/, always/rb warming/vbg ourselves/ppls with/in a/at glow/nn of/in complacency/nn ./.\\nIt/pps was/bedz indeed/rb a/at near/jj thing/nn ,/, but/cc somehow/rb the/at inherent/jj decency/nn of/in New/jj-tl England/np-tl (/( which/wdt we/ppss inherit/vb )/) did/dod triumph/vb ./.\\nParker/np was/bedz never/rb excommunicated/vbn ./.\\nTo/in the/at extent/nn that/cs he/pps was/bedz ostracized/vbn or/cc even/rb reviled/vbn ,/, we/ppss solace/vb ourselves/ppls by/in saying/vbg he/pps asked/vbd for/in it/ppo ./.\\nYet/rb ,/, even/rb after/in all/abn these/dts stratagems/nns ,/, the/at conscience/nn of/in Christian/jj liberality/nn is/bez still/rb not/* laid/vbn to/in rest/nn ,/, any/dti more/ap than/cs is/bez the/at conscience/nn of/in Harvard/np-tl University/nn-tl for/in having/hvg done/vbn the/at abject/jj penance/nn for/in its/pp$ rejection/nn of/in Ralph/np Waldo/np Emerson's/np$ The/at-tl Divinity/nn-tl School/nn-tl Address/nn-tl of/in naming/vbg its/pp$ hall/nn of/in philosophy/nn after/in him/ppo ./.\\nIn/in both/abx cases/nns the/at stubborn/jj fact/nn remains/vbz :/: liberalism/nn gave/vbd birth/nn to/in two/cd brilliant/jj apostates/nns ,/, both/abx legitimate/jj offspring/nns of/in its/pp$ loins/nns ,/, and/cc when/wrb brought/vbn to/in the/at test/nn ,/, it/pps behaved/vbd shabbily/rb ./.\\nSuppose/vb they/ppss both/abx had/hvd ventured/vbn into/in realms/nns which/wdt their/pp$ colleagues/nns thought/vbd infidel/jj :/: is/bez this/dt the/at way/nn gentlemen/nns settle/vb frank/jj differences/nns of/in opinion/nn ?/. ?/.\\nIs/bez it/pps after/in all/abn possible/jj that/cs no/at matter/nn how/wrb the/at liberals/nns trumpet/vb their/pp$ confidence/nn in/in human/jj dignity/nn they/ppss are/ber exposed/vbn to/in a/at contagion/nn of/in fear/nn more/ql insidious/jj than/cs any/dti conservative/nn has/hvz ever/rb to/to worry/vb about/in ?/. ?/.\\n\\n\\n\\tHowever/rb ,/, there/ex is/bez a/at crucial/jj difference/nn between/in the/at two/cd histories/nns ./.\\nEmerson/np evaded/vbd the/at problem/nn by/in shoving/vbg it/ppo aside/rb ,/, or/cc rather/rb by/in leaving/vbg it/ppo behind/in him/ppo :/: he/pps walked/vbd out/in of/in the/at Unitarian/jj communion/nn ,/, so/cs that/cs it/pps could/md lick/vb the/at wound/nn of/in his/pp$ departure/nn ,/, preserve/vb its/pp$ self-respect/nn and/cc eventually/rb accord/vb him/ppo pious/jj veneration/nn ./.\\nParker/np insisted/vbd upon/in not/* resigning/vbg ,/, even/rb when/wrb the/at majority/nn wanted/vbd him/ppo to/to depart/vb ,/, upon/in daring/vbg the/at Fellowship/nn-tl to/to throw/vb him/ppo out/rp ./.\\nHence/rb he/pps was/bedz in/in his/pp$ lifetime/nn ,/, as/cs is/bez the/at memory/nn of/in him/ppo afterwards/rb ,/, a/at canker/nn within/in the/at liberal/jj sensitivity/nn ./.\\nHe/pps still/rb points/vbz an/at accusing/vbg finger/nn at/in all/abn of/in us/ppo ,/, telling/vbg us/ppo we/ppss have/hv neither/cc the/at courage/nn to/to support/vb him/ppo nor/cc the/at energy/nn to/to cut/vb his/pp$ throat/nn ./.\\n\\n\\n\\tActually/rb ,/, the/at dispute/nn between/in Parker/np and/cc the/at society/nn of/in his/pp$ time/nn ,/, both/abx ecclesiastical/jj and/cc social/jj ,/, was/bedz a/at real/jj one/cd ,/, a/at bitter/jj one/cd ./.\\nIt/pps cannot/md* be/be smoothed/vbn over/rp by/in now/rb cherishing/vbg his/pp$ sarcasms/nns as/cs delightful/jj bits/nns of/in self-deprecation/nn or/cc by/in solemnly/rb calling/vbg for/in a/at reconsideration/nn of/in the/at justice/nn of/in the/at objections/nns to/in him/ppo ./.\\nThe/at fact/nn is/bez incontestable/jj :/: that/dt liberal/jj world/nn of/in Unitarian/jj Boston/np was/bedz narrow-minded/jj ,/, intellectually/rb sterile/jj ,/, smug/jj ,/, afraid/jj of/in the/at logical/jj consequences/nns of/in its/pp$ own/jj mild/jj ventures/nns into/in iconoclasm/nn ,/, and/cc quite/ql prepared/vbn to/to resort/vb to/in hysterical/jj repressions/nns when/wrb its/pp$ brittle/jj foundations/nns were/bed threatened/vbn ./.\\nParker/np ,/, along/rb with/in Garrison/np and/cc Charles/np Sumner/np ,/, showed/vbd a/at magnificent/jj moral/jj bravery/nn when/wrb facing/vbg mobs/nns mobilized/vbn in/in defense/nn of/in the/at Mexican/jj-tl War/nn-tl and/cc slavery/nn ./.\\nNevertheless/rb ,/, we/ppss can/md find/vb reasons/nns for/in respecting/vbg even/rb the/at bigotry/nn of/in the/at populace/nn ;/. ;/.\\ntheir/pp$ passions/nns were/bed genuine/jj ,/, and/cc the/at division/nn between/in them/ppo and/cc the/at abolitionists/nns is/bez clear-cut/jj ./.\\nBut/cc Parker/np as/cs the/at ultra-liberal/jj minister/nn within/in the/at pale/nn of/in a/at church/nn which/wdt had/hvd proclaimed/vbn itself/ppl the/at repository/nn of/in liberality/nn poses/vbz a/at different/jj problem/nn ,/, which/wdt is/bez not/* to/to be/be resolved/vbn by/in holding/vbg him/ppo up/rp as/cs the/at champion/nn of/in freedom/nn ./.\\nEven/rb though/cs his/pp$ theological/jj theses/nns have/hv become/vbn ,/, to/in us/ppo ,/, commonplaces/nns ,/, the/at fundamental/jj interrogation/nn he/pps phrased/vbd is/bez very/ql much/rb with/in us/ppo ./.\\nIt/pps has/hvz been/ben endlessly/rb rephrased/vbn ,/, but/cc I/ppss may/md here/rb put/vb it/ppo thus/rb :/: at/in what/wdt point/nn do/do the/at tolerant/jj find/vb themselves/ppls obliged/vbn to/to become/vb intolerant/jj ?/. ?/.\\nAnd/cc then/rb ,/, as/cs they/ppss become/vb aware/jj that/cs they/ppss have/hv reached/vbn the/at end/nn of/in their/pp$ patience/nn ,/, what/wdt do/do they/ppss ,/, to/in their/pp$ dismay/nn ,/, learn/vb for/in the/at first/od time/nn about/in themselves/ppls ?/. ?/.\\n\\n\\n\\tThere/ex can/md be/be no/at doubt/nn ,/, the/at Boston/np of/in that/dt era/nn could/md be/be exquisitely/ql cruel/jj in/in enforcing/vbg its/pp$ canons/nns of/in behavior/nn ./.\\nThe/at gentle/jj Channing/np ,/, revered/vbn by/in all/abn Bostonians/nps ,/, orthodox/jj or/cc Unitarian/jj ,/, wrote/vbd to/in a/at friend/nn in/in Louisville/np that/cs among/in its/pp$ many/ap virtues/nns Boston/np did/dod not/* abound/vb in/in a/at tolerant/jj spirit/nn ,/, that/cs the/at yoke/nn of/in opinion/nn crushed/vbd individuality/nn of/in judgment/nn and/cc action/nn :/: ``/`` No/at city/nn in/in the/at world/nn is/bez governed/vbn so/ql little/rb by/in a/at police/nn ,/, and/cc so/ql much/rb by/in mutual/jj inspections/nns and/cc what/wdt is/bez called/vbn public/jj sentiment/nn ./.\\nWe/ppss stand/vb more/rbr in/in awe/nn of/in one/cd another/dt than/cs most/ap people/nns ./.\\nOpinion/nn is/bez less/ql individual/jj or/cc runs/vbz more/rbr into/in masses/nns ,/, and/cc often/rb rules/vbz with/in a/at rod/nn of/in iron/nn ''/'' ./.\\nEven/ql more/ql poignantly/rb ,/, and/cc with/in the/at insight/nn of/in a/at genius/nn ,/, Channing/np added/vbd --/-- remember/vb ,/, this/dt is/bez Channing/np ,/, not/* Parker/np !/. !/.\\n--/-- that/cs should/md a/at minister/nn in/in Boston/np trust/vb himself/ppl to/in his/pp$ heart/nn ,/, should/md he/pps ``/`` speak/vb without/in book/nn ,/, and/cc consequently/rb break/vb some/dti law/nn of/in speech/nn ,/, or/cc be/be hurried/vbn into/in some/dti daring/vbg hyperbole/nn ,/, he/pps should/md find/vb little/ap mercy/nn ''/'' ./.\\n\\n\\n\\tChanning/np wrote/vbd this/dt --/-- in/in a/at letter/nn !/. !/.\\nI/ppss think/vb it/ppo fair/jj to/to say/vb that/cs he/pps never/rb quite/rb reached/vbd such/jj candor/nn in/in his/pp$ sermons/nns ./.\\nBut/cc Theodore/np Parker/np ,/, commencing/vbg his/pp$ mission/nn to/in the/at world-at-large/nn ,/, disguised/vbn as/cs the/at minister/nn of/in a/at ``/`` twenty-eighth/od Congregational/jj-tl Church/nn-tl ''/'' which/wdt bore/vbd no/at resemblance/nn to/in the/at Congregational/jj-tl polities/nns descended/vbn from/in the/at founders/nns (/( among/in which/wdt were/bed still/rb the/at Unitarian/jj churches/nns )/) ,/, made/vbd explicit/jj from/in the/at beginning/nn that/cs the/at conflict/nn between/in him/ppo and/cc the/at Hunkerish/jj society/nn was/bedz not/* something/pn which/wdt could/md be/be evaporated/vbn into/in a/at genteel/jj difference/nn about/in clerical/jj decorum/nn ./.\\nBecause/cs he/pps spoke/vbd openly/rb with/in what/wdt Channing/np had/hvd prophesied/vbn someone/pn might/md --/-- with/in daring/vbg hyperbole/nn --/-- Parker/np vindicated/vbd Channing's/np$ further/jjr prophecy/nn that/cs he/pps who/wps committed/vbd this/dt infraction/nn of/in taste/nn would/md promptly/rb discover/vb how/wql little/ap mercy/nn liberals/nns were/bed disposed/vbn to/to allow/vb to/in libertarians/nns who/wps appeared/vbd to/in them/ppo libertines/nns ./.\\nAn/at institutionalized/vbn liberalism/nn proved/vbd itself/ppl fundamentally/rb an/at institution/nn ,/, and/cc only/rb within/in those/dts defined/vbn limits/nns a/at license/nn ./.\\n\\n\\n\\tBy/in reminding/vbg ourselves/ppls of/in these/dts factors/nns in/in the/at situation/nn ,/, we/ppss should/md ,/, I/ppss am/bem sure/jj ,/, come/vb to/in a/at fresh/jj realization/nn ,/, however/wql painful/jj it/pps be/be ,/, that/cs the/at battle/nn between/in Parker/np and/cc his/pp$ neighbors/nns was/bedz fought/vbn in/in earnest/jj ./.\\nHe/pps arraigned/vbd the/at citizens/nns in/in language/nn of/in so/ql little/ap courtesy/nn that/cs they/ppss had/hvd to/to respond/vb with/in ,/, at/in the/at least/ap ,/, resentment/nn ./.\\nWhat/wdt otherwise/rb could/md ``/`` the/at lawyer/nn ,/, doctor/nn ,/, minister/nn ,/, the/at men/nns of/in science/nn and/cc letters/nns ''/'' do/do when/wrb told/vbn that/cs they/ppss had/hvd ``/`` become/vbn the/at cherubim/nns and/cc seraphim/nns and/cc the/at three/cd archangels/nns who/wps stood/vbd before/in the/at golden/jj throne/nn of/in the/at merchant/nn ,/, and/cc continually/rb cried/vbd ,/, '/' Holy/jj ,/, holy/jj ,/, holy/jj is/bez the/at Almighty/jj-tl Dollar/nn-tl '/' ``/`` ?/. ?/.\\nNor/cc ,/, when/wrb we/ppss recollect/vb how/wql sensitive/jj were/bed the/at emotions/nns of/in the/at old/jj Puritan/jj-tl stock/nn in/in regard/nn to/in the/at recent/jj tides/nns of/in immigration/nn ,/, should/md we/ppss be/be astonished/vbn that/cs their/pp$ thin/jj lips/nns were/bed compressed/vbn into/in a/at white/jj line/nn of/in rage/nn as/cs Parker/np snarled/vbd at/in them/ppo thus/rb :/: ``/`` Talk/vb about/in the/at Catholics/nps voting/vbg as/cs the/at bishop/nn tells/vbz !/. !/.\\nReproach/vb the/at Catholics/nps for/in it/ppo !/. !/.\\nYou/ppss and/cc I/ppss do/do the/at same/ap thing/nn ./.\\nThere/ex are/ber a/at great/ql many/ap bishops/nns who/wps have/hv never/rb had/hvn a/at cross/nn on/in their/pp$ bosom/nn ,/, nor/cc a/at mitre/nn on/in their/pp$ head/nn ,/, who/wps appeal/vb not/* to/in the/at authority/nn of/in the/at Pope/nn-tl at/in Rome/np ,/, but/cc to/in the/at Almighty/jj-tl Dollar/nn-tl ,/, a/at pope/nn much/ql nearer/in home/nr ./.\\nBoston/np has/hvz been/ben controlled/vbn by/in a/at few/ap capitalists/nns ,/, lawyers/nns and/cc other/ap managers/nns ,/, who/wps told/vbd the/at editors/nns what/wdt to/to say/vb and/cc the/at preachers/nns what/wdt to/to think/vb ''/'' ./.\\nThis/dt was/bedz war/nn ./.\\nParker/np meant/vbd business/nn ./.\\nAnd/cc he/pps took/vbd repeated/vbn care/nn to/to let/vb his/pp$ colleagues/nns know/vb that/cs he/pps intended/vbd them/ppo :/: ``/`` Even/rb the/at Unitarian/jj churches/nns have/hv caught/vbn the/at malaria/nn ,/, and/cc are/ber worse/jjr than/cs those/dts who/wps deceived/vbd them/ppo ''/'' --/-- which/wdt implied/vbd that/cs they/ppss were/bed very/ql bad/jj indeed/qlp ./.\\nIt/pps was/bedz ``/`` Duty/nn ''/'' he/pps said/vbd that/cs his/pp$ parents/nns had/hvd given/vbn him/ppo as/cs a/at rule/nn --/-- beyond/in even/rb the/at love/nn that/wps suffused/vbd his/pp$ being/nn and/cc the/at sense/nn of/in humor/nn with/in which/wdt he/pps was/bedz largely/rb supplied/vbn --/-- and/cc it/pps was/bedz duty/nn he/pps would/md perform/vb ,/, though/cs it/pps cost/vbd him/ppo acute/jj pain/nn and/cc exhausted/vbd him/ppo by/in the/at age/nn of/in fifty/cd ./.\\nParker/np could/md weep/vb --/-- and/cc he/pps wept/vbd astonishingly/ql often/rb and/cc on/in the/at slightest/jjt provocation/nn --/-- but/cc the/at psychology/nn of/in those/dts tears/nns was/bedz entirely/rb compatible/jj with/in a/at remorseless/jj readiness/nn to/to massacre/vb his/pp$ opponents/nns ./.\\n``/`` If/cs it/pps gave/vbd me/ppo pleasure/nn to/to say/vb hard/jj things/nns ''/'' ,/, he/pps wrote/vbd ,/, ``/`` I/ppss would/md shut/vb up/rp forever/rb ''/'' ./.\\nWe/ppss have/hv to/to tell/vb ourselves/ppls that/cs when/wrb Parker/np spoke/vbd in/in this/dt vein/nn ,/, he/pps believed/vbd what/wdt he/pps said/vbd ,/, because/cs he/pps could/md continue/vb ,/, ``/`` But/cc the/at truth/nn ,/, which/wdt cost/vbd me/ppo bitter/jj tears/nns to/to say/vb ,/, I/ppss must/md speak/vb ,/, though/cs it/pps cost/vbd other/ap tears/nns hotter/jjr than/cs fire/nn ''/'' ./.\\nBecause/cs he/pps copiously/rb shed/vbd his/pp$ own/jj tears/nns ,/, and/cc yielded/vbd himself/ppl up/rp as/cs a/at living/vbg sacrifice/nn to/in the/at impersonalized/vbn conscience/nn of/in New/jj-tl England/np-tl ,/, he/pps was/bedz not/* disturbed/vbn by/in the/at havoc/nn he/pps worked/vbd in/in other/ap people's/nns$ consciences/nns ./.\\n\\n\\n\\tOur/pp$ endeavor/nn to/to capture/vb even/rb a/at faint/jj sense/nn of/in how/wrb strenuous/jj was/bedz the/at fight/nn is/bez muffled/vbn by/in our/pp$ indifference/nn to/in the/at very/ap issue/nn which/wdt in/in the/at Boston/np of/in 1848/cd seemed/vbd to/to be/be the/at central/jj hope/nn of/in its/pp$ Christian/jj survival/nn ,/, that/dt of/in the/at literal/jj ,/, factual/jj historicity/nn of/in the/at miracles/nns as/cs reported/vbn in/in the/at Four/cd-tl Gospels/nps ./.\\nIt/pps is/bez idle/jj to/to ask/vb why/wrb we/ppss are/ber no/ql longer/rbr disturbed/vbn if/cs somebody/pn ,/, professing/vbg the/at deepest/jjt piety/nn ,/, decides/vbz anew/rb that/cs it/pps is/bez of/in no/at importance/nn whether/cs or/cc not/* Christ/np transformed/vbd the/at water/nn into/in wine/nn at/in eleven/cd A.M./rb on/in the/at third/od of/in August/np ,/, A.D./rb 32/cd ./.\\nWe/ppss have/hv no/at answer/nn as/in to/in why/wrb we/ppss are/ber not/* alarmed/vbn ./.\\nSo/rb we/ppss are/ber the/at more/ql prepared/vbn to/to give/vb Parker/np the/at credit/nn for/in having/hvg taken/vbn the/at right/jj side/nn in/in an/at unnecessary/jj controversy/nn ,/, to/to salute/vb his/pp$ courage/nn ,/, and/cc to/to pass/vb on/rp ,/, happily/rb forgetting/vbg both/abx him/ppo and/cc the/at entire/jj episode/nn ./.\\nWe/ppss have/hv not/* the/at leisure/nn ,/, or/cc the/at patience/nn ,/, or/cc the/at skill/nn ,/, to/to comprehend/vb what/wdt was/bedz working/vbg in/in the/at mind/nn and/cc heart/nn of/in a/at then/rb recent/jj graduate/nn from/in the/at Harvard/np-tl Divinity/nn-tl School/nn-tl who/wps would/md muster/vb the/at audacity/nn to/to contradict/vb his/pp$ most/ql formidable/jj instructor/nn ,/, the/at majesterial/jj Andrews/np Norton/np ,/, by/in saying/vbg that/cs ,/, while/cs he/pps believed/vbd Jesus/np ``/`` like/cs other/ap religious/jj teachers/nns ''/'' ,/, worked/vbd miracles/nns ,/, ``/`` I/ppss see/vb not/* how/wrb a/at miracle/nn proves/vbz a/at doctrine/nn ''/'' ./.\\n\\n\""
      ]
     },
     "execution_count": 6,
     "metadata": {},
     "output_type": "execute_result"
    }
   ],
   "source": [
    "brown.raw('cd05')     # religion: cd05"
   ]
  },
  {
   "cell_type": "markdown",
   "metadata": {},
   "source": [
    "#####  Access list of words"
   ]
  },
  {
   "cell_type": "code",
   "execution_count": 7,
   "metadata": {},
   "outputs": [
    {
     "data": {
      "text/plain": [
       "['Furthermore', ',', 'as', 'an', 'encouragement', 'to', ...]"
      ]
     },
     "execution_count": 7,
     "metadata": {},
     "output_type": "execute_result"
    }
   ],
   "source": [
    "brown.words('cd05')"
   ]
  },
  {
   "cell_type": "markdown",
   "metadata": {},
   "source": [
    "##### Access list of sentences"
   ]
  },
  {
   "cell_type": "code",
   "execution_count": 8,
   "metadata": {},
   "outputs": [
    {
     "data": {
      "text/plain": [
       "[['Furthermore', ',', 'as', 'an', 'encouragement', 'to', 'revisionist', 'thinking', ',', 'it', 'manifestly', 'is', 'fair', 'to', 'admit', 'that', 'any', 'fraternity', 'has', 'a', 'constitutional', 'right', 'to', 'refuse', 'to', 'accept', 'persons', 'it', 'dislikes', '.'], ['The', 'Unitarian', 'clergy', 'were', 'an', 'exclusive', 'club', 'of', 'cultivated', 'gentlemen', '--', 'as', 'the', 'term', 'was', 'then', 'understood', 'in', 'the', 'Back', 'Bay', '--', 'and', 'Parker', 'was', 'definitely', 'not', 'a', 'gentleman', ',', 'either', 'in', 'theology', 'or', 'in', 'manners', '.'], ...]"
      ]
     },
     "execution_count": 8,
     "metadata": {},
     "output_type": "execute_result"
    }
   ],
   "source": [
    "brown.sents('cd05')"
   ]
  }
 ],
 "metadata": {
  "kernelspec": {
   "display_name": "Python 3",
   "language": "python",
   "name": "python3"
  },
  "language_info": {
   "codemirror_mode": {
    "name": "ipython",
    "version": 3
   },
   "file_extension": ".py",
   "mimetype": "text/x-python",
   "name": "python",
   "nbconvert_exporter": "python",
   "pygments_lexer": "ipython3",
   "version": "3.7.6"
  }
 },
 "nbformat": 4,
 "nbformat_minor": 4
}
